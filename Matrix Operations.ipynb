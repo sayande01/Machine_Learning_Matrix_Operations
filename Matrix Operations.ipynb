{
 "cells": [
  {
   "cell_type": "markdown",
   "id": "982a1e71-aeb8-4fef-9af6-61c218fb1cc7",
   "metadata": {},
   "source": [
    "# Matrix Operations"
   ]
  },
  {
   "cell_type": "code",
   "execution_count": 1,
   "id": "4211f6a9-42f0-472c-9db6-c776617e8a9f",
   "metadata": {},
   "outputs": [],
   "source": [
    "import numpy as np"
   ]
  },
  {
   "cell_type": "markdown",
   "id": "58e05b2d-8e23-4462-af37-b5d32e92b0c3",
   "metadata": {},
   "source": [
    "### Matrix Addition\n",
    "\n",
    " Condition : \n",
    " Two Matrices can be added only if they have the same shape"
   ]
  },
  {
   "cell_type": "code",
   "execution_count": 6,
   "id": "c553b692-456c-445f-8921-c7ed62d17b58",
   "metadata": {},
   "outputs": [
    {
     "name": "stdout",
     "output_type": "stream",
     "text": [
      "[[2 3]\n",
      " [4 5]]\n",
      "[[6 7]\n",
      " [8 9]]\n"
     ]
    }
   ],
   "source": [
    "# creating two matrices\n",
    "\n",
    "A = np.array([[2,3],[4,5]])\n",
    "\n",
    "B = np.array([[6,7],[8,9]])\n",
    "print(A)\n",
    "print(B)"
   ]
  },
  {
   "cell_type": "code",
   "execution_count": 3,
   "id": "952f1437-76ff-4500-82f4-27e846714d07",
   "metadata": {},
   "outputs": [
    {
     "data": {
      "text/plain": [
       "array([[ 8, 10],\n",
       "       [12, 14]])"
      ]
     },
     "execution_count": 3,
     "metadata": {},
     "output_type": "execute_result"
    }
   ],
   "source": [
    "sum = A + B\n",
    "sum"
   ]
  },
  {
   "cell_type": "code",
   "execution_count": 7,
   "id": "a2b00338-8441-4b50-811e-a3ffb60efeb2",
   "metadata": {},
   "outputs": [],
   "source": [
    "# create two matrices with random values\n",
    "matrix_1 = np.random.randint(10, size=(3,3))\n",
    "matrix_2 = np.random.randint(20, size=(3,3))"
   ]
  },
  {
   "cell_type": "code",
   "execution_count": 10,
   "id": "f2c62bb9-4e2e-4907-a34e-35310f911a59",
   "metadata": {},
   "outputs": [
    {
     "name": "stdout",
     "output_type": "stream",
     "text": [
      "[[9 0 9]\n",
      " [7 6 8]\n",
      " [0 3 3]]\n",
      " \n",
      "[[10 17 15]\n",
      " [ 5  3 12]\n",
      " [13  3  0]]\n"
     ]
    }
   ],
   "source": [
    "print(matrix_1)\n",
    "print(' ')\n",
    "print(matrix_2)"
   ]
  },
  {
   "cell_type": "code",
   "execution_count": 11,
   "id": "09462f0a-4dee-4c0d-9bbc-9a12361ca553",
   "metadata": {},
   "outputs": [
    {
     "name": "stdout",
     "output_type": "stream",
     "text": [
      "[[19 17 24]\n",
      " [12  9 20]\n",
      " [13  6  3]]\n"
     ]
    }
   ],
   "source": [
    "sum = np.add(matrix_1, matrix_2)\n",
    "print(sum)"
   ]
  },
  {
   "cell_type": "markdown",
   "id": "9a6351f8-d236-4dff-9d20-8715700cb76c",
   "metadata": {},
   "source": [
    "### Matrix Subtraction"
   ]
  },
  {
   "cell_type": "code",
   "execution_count": null,
   "id": "6b1aecc3-a309-4869-b6e1-28f050fa2638",
   "metadata": {},
   "outputs": [],
   "source": [
    "# creating two matrices\n",
    "\n",
    "A = np.array([[2,3],[4,5]])\n",
    "\n",
    "B = np.array([[6,7],[8,9]])"
   ]
  },
  {
   "cell_type": "code",
   "execution_count": 12,
   "id": "6e2bd786-b4aa-4ca7-bb4a-d8e55b521981",
   "metadata": {},
   "outputs": [
    {
     "name": "stdout",
     "output_type": "stream",
     "text": [
      "[[2 3]\n",
      " [4 5]]\n",
      "[[6 7]\n",
      " [8 9]]\n"
     ]
    }
   ],
   "source": [
    "print(A)\n",
    "print(B)"
   ]
  },
  {
   "cell_type": "code",
   "execution_count": 15,
   "id": "4f1e44c6-76ba-401e-8ecb-fe12f50703ed",
   "metadata": {},
   "outputs": [],
   "source": [
    "difference = A - B"
   ]
  },
  {
   "cell_type": "code",
   "execution_count": 16,
   "id": "5fcf3ac9-3c2e-4385-8e4d-200898ce90e4",
   "metadata": {},
   "outputs": [
    {
     "name": "stdout",
     "output_type": "stream",
     "text": [
      "[[-4 -4]\n",
      " [-4 -4]]\n"
     ]
    }
   ],
   "source": [
    "print(difference)"
   ]
  },
  {
   "cell_type": "code",
   "execution_count": 17,
   "id": "6c802351-4b0c-4b0c-9b2d-bfce6b02a18a",
   "metadata": {},
   "outputs": [],
   "source": [
    "# create two matrices with random values\n",
    "matrix_1 = np.random.randint(10, size=(3,3))\n",
    "matrix_2 = np.random.randint(20, size=(3,3))"
   ]
  },
  {
   "cell_type": "code",
   "execution_count": 18,
   "id": "b8878fd7-8af8-4c90-837d-3ecbc645b7b6",
   "metadata": {},
   "outputs": [
    {
     "name": "stdout",
     "output_type": "stream",
     "text": [
      "[[4 9 6]\n",
      " [6 1 5]\n",
      " [5 4 3]]\n",
      " \n",
      "[[19 15  5]\n",
      " [ 2  5  0]\n",
      " [14  5 16]]\n"
     ]
    }
   ],
   "source": [
    "print(matrix_1)\n",
    "print(' ')\n",
    "print(matrix_2)"
   ]
  },
  {
   "cell_type": "code",
   "execution_count": 19,
   "id": "b39c4c46-2cfd-4099-a7af-995ba738c882",
   "metadata": {},
   "outputs": [
    {
     "name": "stdout",
     "output_type": "stream",
     "text": [
      "[[-15  -6   1]\n",
      " [  4  -4   5]\n",
      " [ -9  -1 -13]]\n"
     ]
    }
   ],
   "source": [
    "diff = np.subtract(matrix_1, matrix_2)\n",
    "print(diff)"
   ]
  },
  {
   "cell_type": "markdown",
   "id": "0df57f9d-8893-4c35-b9c3-c56757983019",
   "metadata": {},
   "source": [
    "### Multiplying a matrix by a scalar"
   ]
  },
  {
   "cell_type": "code",
   "execution_count": 20,
   "id": "99a8341b-2d0c-42c8-bb4c-83e6bda2a732",
   "metadata": {},
   "outputs": [
    {
     "name": "stdout",
     "output_type": "stream",
     "text": [
      "[[8 1 0 6]\n",
      " [2 9 0 2]\n",
      " [3 2 2 8]\n",
      " [0 7 1 7]]\n"
     ]
    }
   ],
   "source": [
    "x = 5\n",
    "y = np.random.randint(10, size=(4,4))\n",
    "\n",
    "print(y)"
   ]
  },
  {
   "cell_type": "code",
   "execution_count": 21,
   "id": "eba082d3-6f5a-49d3-9155-d7cb883cc711",
   "metadata": {},
   "outputs": [
    {
     "name": "stdout",
     "output_type": "stream",
     "text": [
      "[[40  5  0 30]\n",
      " [10 45  0 10]\n",
      " [15 10 10 40]\n",
      " [ 0 35  5 35]]\n"
     ]
    }
   ],
   "source": [
    "product = np.multiply(x,y)\n",
    "print(product)"
   ]
  },
  {
   "cell_type": "markdown",
   "id": "ab31ac31-1e86-4f4e-bcfc-9b9fa8dcccb7",
   "metadata": {},
   "source": [
    "### Multiplying 2 Matrices"
   ]
  },
  {
   "cell_type": "markdown",
   "id": "98e93ea6-4f96-4a3d-8b3b-290e5d2109bb",
   "metadata": {},
   "source": [
    "### Element wise Matrix Multiplication"
   ]
  },
  {
   "cell_type": "code",
   "execution_count": 22,
   "id": "3a3a5342-5d2d-433d-8d59-b979e7b8c5b6",
   "metadata": {},
   "outputs": [],
   "source": [
    "# create two matrices with random values\n",
    "matrix_3 = np.random.randint(5, size=(3,3))\n",
    "matrix_4 = np.random.randint(5, size=(3,3))"
   ]
  },
  {
   "cell_type": "code",
   "execution_count": 23,
   "id": "0be580e1-1d0a-4032-88a5-d07a39aadd29",
   "metadata": {},
   "outputs": [
    {
     "name": "stdout",
     "output_type": "stream",
     "text": [
      "[[4 2 3]\n",
      " [1 4 2]\n",
      " [3 4 2]]\n",
      " \n",
      "[[1 3 3]\n",
      " [1 3 2]\n",
      " [2 0 1]]\n"
     ]
    }
   ],
   "source": [
    "print(matrix_3)\n",
    "print(' ')\n",
    "print(matrix_4)"
   ]
  },
  {
   "cell_type": "code",
   "execution_count": 24,
   "id": "793f140b-8bcc-422e-a845-e8c630c6e135",
   "metadata": {},
   "outputs": [
    {
     "name": "stdout",
     "output_type": "stream",
     "text": [
      "[[ 4  6  9]\n",
      " [ 1 12  4]\n",
      " [ 6  0  2]]\n"
     ]
    }
   ],
   "source": [
    "product = np.multiply(matrix_3, matrix_4)\n",
    "print(product)"
   ]
  },
  {
   "cell_type": "markdown",
   "id": "f3a4e780-e614-4130-a61c-8dfa26f0a32f",
   "metadata": {},
   "source": [
    "## Matrix Multiplcation"
   ]
  },
  {
   "attachments": {
    "31a18124-84a9-4642-9867-32028d3a2a8b.jpg": {
     "image/jpeg": "[encoded data removed]"
    }
   },
   "cell_type": "markdown",
   "id": "1f665932-fdc3-4fc0-ba55-1f1fe0beb60b",
   "metadata": {},
   "source": [
    "![matrix multiplication.jpg](attachment:31a18124-84a9-4642-9867-32028d3a2a8b.jpg)"
   ]
  },
  {
   "attachments": {
    "17f4d5a1-768b-4f10-81f6-0da26b13c962.png": {
     "image/png": "[encoded data removed]"
    }
   },
   "cell_type": "markdown",
   "id": "8cf643d6-f8a2-4119-9343-d3b14f67355e",
   "metadata": {},
   "source": [
    "![multiplication-of-matrices-of-order-2-x-2-1627879189.png](attachment:17f4d5a1-768b-4f10-81f6-0da26b13c962.png)"
   ]
  },
  {
   "cell_type": "code",
   "execution_count": 29,
   "id": "228c576e-8358-44d0-9806-ce4ff412818f",
   "metadata": {},
   "outputs": [
    {
     "name": "stdout",
     "output_type": "stream",
     "text": [
      "[[4 2 3]\n",
      " [1 4 2]\n",
      " [3 4 2]]\n",
      " \n",
      "[[1 3 3]\n",
      " [1 3 2]\n",
      " [2 0 1]]\n",
      " \n",
      "[[12 18 19]\n",
      " [ 9 15 13]\n",
      " [11 21 19]]\n"
     ]
    }
   ],
   "source": [
    "product2 = np.dot(matrix_3, matrix_4)\n",
    "print(matrix_3)\n",
    "print(' ')\n",
    "print(matrix_4)\n",
    "print(' ')\n",
    "print(product2)"
   ]
  },
  {
   "cell_type": "code",
   "execution_count": 33,
   "id": "9bf0e488-47a6-4786-b40b-fc9531bdac29",
   "metadata": {},
   "outputs": [
    {
     "name": "stdout",
     "output_type": "stream",
     "text": [
      "[[4 3 4]\n",
      " [1 3 2]\n",
      " [2 3 2]]\n",
      " \n",
      "[[1 1 2 1]\n",
      " [4 0 4 3]\n",
      " [1 0 1 2]]\n",
      " \n",
      "[[20  4 24 21]\n",
      " [15  1 16 14]\n",
      " [16  2 18 15]]\n"
     ]
    }
   ],
   "source": [
    "# create two matrices with random values\n",
    "matrix_5 = np.random.randint(5, size=(3,3))\n",
    "matrix_6 = np.random.randint(5, size=(3,4))\n",
    "print(matrix_5)\n",
    "print(' ')\n",
    "print(matrix_6)\n",
    "print(' ')\n",
    "product3 = np.dot(matrix_5, matrix_6)\n",
    "print(product3)"
   ]
  },
  {
   "cell_type": "code",
   "execution_count": null,
   "id": "efbd6143-f45d-4900-a9a0-ac9566165df2",
   "metadata": {},
   "outputs": [],
   "source": []
  }
 ],
 "metadata": {
  "kernelspec": {
   "display_name": "Python 3 (ipykernel)",
   "language": "python",
   "name": "python3"
  },
  "language_info": {
   "codemirror_mode": {
    "name": "ipython",
    "version": 3
   },
   "file_extension": ".py",
   "mimetype": "text/x-python",
   "name": "python",
   "nbconvert_exporter": "python",
   "pygments_lexer": "ipython3",
   "version": "3.11.7"
  }
 },
 "nbformat": 4,
 "nbformat_minor": 5
}
